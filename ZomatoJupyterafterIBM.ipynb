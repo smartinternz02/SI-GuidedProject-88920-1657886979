{
 "cells": [
  {
   "cell_type": "code",
   "execution_count": 1,
   "id": "7d8f8bf4",
   "metadata": {},
   "outputs": [
    {
     "name": "stdout",
     "output_type": "stream",
     "text": [
      "Collecting watson-machine-learning-client\n",
      "  Downloading watson_machine_learning_client-1.0.391-py3-none-any.whl (538 kB)\n",
      "Requirement already satisfied: ibm-cos-sdk in c:\\users\\alekhya\\anaconda3\\lib\\site-packages (from watson-machine-learning-client) (2.11.0)\n",
      "Requirement already satisfied: urllib3 in c:\\users\\alekhya\\anaconda3\\lib\\site-packages (from watson-machine-learning-client) (1.26.7)\n",
      "Requirement already satisfied: tqdm in c:\\users\\alekhya\\anaconda3\\lib\\site-packages (from watson-machine-learning-client) (4.62.3)\n",
      "Requirement already satisfied: requests in c:\\users\\alekhya\\anaconda3\\lib\\site-packages (from watson-machine-learning-client) (2.26.0)\n",
      "Collecting boto3\n",
      "  Downloading boto3-1.24.61-py3-none-any.whl (132 kB)\n",
      "Requirement already satisfied: certifi in c:\\users\\alekhya\\anaconda3\\lib\\site-packages (from watson-machine-learning-client) (2021.10.8)\n",
      "Requirement already satisfied: lomond in c:\\users\\alekhya\\anaconda3\\lib\\site-packages (from watson-machine-learning-client) (0.3.3)\n",
      "Requirement already satisfied: pandas in c:\\users\\alekhya\\anaconda3\\lib\\site-packages (from watson-machine-learning-client) (1.3.4)\n",
      "Requirement already satisfied: tabulate in c:\\users\\alekhya\\anaconda3\\lib\\site-packages (from watson-machine-learning-client) (0.8.10)\n",
      "Collecting botocore<1.28.0,>=1.27.61\n",
      "  Downloading botocore-1.27.61-py3-none-any.whl (9.1 MB)\n",
      "Requirement already satisfied: jmespath<2.0.0,>=0.7.1 in c:\\users\\alekhya\\anaconda3\\lib\\site-packages (from boto3->watson-machine-learning-client) (0.10.0)\n",
      "Collecting s3transfer<0.7.0,>=0.6.0\n",
      "  Downloading s3transfer-0.6.0-py3-none-any.whl (79 kB)\n",
      "Requirement already satisfied: python-dateutil<3.0.0,>=2.1 in c:\\users\\alekhya\\anaconda3\\lib\\site-packages (from botocore<1.28.0,>=1.27.61->boto3->watson-machine-learning-client) (2.8.2)\n",
      "Requirement already satisfied: six>=1.5 in c:\\users\\alekhya\\anaconda3\\lib\\site-packages (from python-dateutil<3.0.0,>=2.1->botocore<1.28.0,>=1.27.61->boto3->watson-machine-learning-client) (1.16.0)\n",
      "Requirement already satisfied: ibm-cos-sdk-core==2.11.0 in c:\\users\\alekhya\\anaconda3\\lib\\site-packages (from ibm-cos-sdk->watson-machine-learning-client) (2.11.0)\n",
      "Requirement already satisfied: ibm-cos-sdk-s3transfer==2.11.0 in c:\\users\\alekhya\\anaconda3\\lib\\site-packages (from ibm-cos-sdk->watson-machine-learning-client) (2.11.0)\n",
      "Requirement already satisfied: idna<4,>=2.5 in c:\\users\\alekhya\\anaconda3\\lib\\site-packages (from requests->watson-machine-learning-client) (3.2)\n",
      "Requirement already satisfied: charset-normalizer~=2.0.0 in c:\\users\\alekhya\\anaconda3\\lib\\site-packages (from requests->watson-machine-learning-client) (2.0.4)\n",
      "Requirement already satisfied: pytz>=2017.3 in c:\\users\\alekhya\\anaconda3\\lib\\site-packages (from pandas->watson-machine-learning-client) (2021.3)\n",
      "Requirement already satisfied: numpy>=1.17.3 in c:\\users\\alekhya\\anaconda3\\lib\\site-packages (from pandas->watson-machine-learning-client) (1.20.3)\n",
      "Requirement already satisfied: colorama in c:\\users\\alekhya\\anaconda3\\lib\\site-packages (from tqdm->watson-machine-learning-client) (0.4.4)\n",
      "Installing collected packages: botocore, s3transfer, boto3, watson-machine-learning-client\n",
      "Successfully installed boto3-1.24.61 botocore-1.27.61 s3transfer-0.6.0 watson-machine-learning-client-1.0.391\n"
     ]
    }
   ],
   "source": [
    "!pip install watson-machine-learning-client --upgrade"
   ]
  },
  {
   "cell_type": "code",
   "execution_count": 2,
   "id": "0e3e0ce8",
   "metadata": {},
   "outputs": [],
   "source": [
    "from ibm_watson_machine_learning import APIClient\n",
    "wml_credentials = { \"url\": \"https://us-south.ml.cloud.ibm.com\", \n",
    "                  \"apikey\": \"b7BpJij5gFeuL2cR1_s14y1Lb7TssAl94vggb0m3LLqh\" }\n",
    "client = APIClient(wml_credentials)"
   ]
  },
  {
   "cell_type": "code",
   "execution_count": 3,
   "id": "643c82e2",
   "metadata": {},
   "outputs": [],
   "source": [
    "client = APIClient(wml_credentials)"
   ]
  },
  {
   "cell_type": "code",
   "execution_count": 4,
   "id": "c4cb62a3",
   "metadata": {},
   "outputs": [],
   "source": [
    "def guid_from_space_name(client, space_name):\n",
    "    space=client.spaces.get_details()\n",
    "    return(next(item for item in space['resources'] if item['entity'][\"name\"]== space_name)['metadata']['id'])"
   ]
  },
  {
   "cell_type": "code",
   "execution_count": 5,
   "id": "ffae9e7d",
   "metadata": {},
   "outputs": [
    {
     "name": "stdout",
     "output_type": "stream",
     "text": [
      "Space UID 7e164fd0-b9db-4b39-92fe-71d0982f3f26\n"
     ]
    }
   ],
   "source": [
    "space_uid= guid_from_space_name(client, 'SentimentAnalysis')\n",
    "print(\"Space UID \"+ space_uid)"
   ]
  },
  {
   "cell_type": "code",
   "execution_count": 8,
   "id": "afeee692",
   "metadata": {},
   "outputs": [
    {
     "data": {
      "text/plain": [
       "'SUCCESS'"
      ]
     },
     "execution_count": 8,
     "metadata": {},
     "output_type": "execute_result"
    }
   ],
   "source": [
    "client.set.default_space(space_uid)"
   ]
  },
  {
   "cell_type": "code",
   "execution_count": 9,
   "id": "7ec27106",
   "metadata": {},
   "outputs": [
    {
     "name": "stdout",
     "output_type": "stream",
     "text": [
      "Successfully saved model content to file: 'CNN'\n"
     ]
    },
    {
     "data": {
      "text/plain": [
       "'C:\\\\Users\\\\alekhya\\\\Downloads/CNN'"
      ]
     },
     "execution_count": 9,
     "metadata": {},
     "output_type": "execute_result"
    }
   ],
   "source": [
    "client.repository.download(\"03e9816e-0f49-497a-9aff-f78f13da4189\",'CNN')"
   ]
  },
  {
   "cell_type": "code",
   "execution_count": 22,
   "id": "0ac13f82",
   "metadata": {},
   "outputs": [],
   "source": [
    "from tensorflow.keras.models import load_model\n",
    "from tensorflow.keras.preprocessing import image"
   ]
  },
  {
   "cell_type": "code",
   "execution_count": 23,
   "id": "b289b28f",
   "metadata": {},
   "outputs": [],
   "source": [
    "model= load_model('D:\\MLDLPROJECT/zomato_2_analysis-002.h5')"
   ]
  },
  {
   "cell_type": "code",
   "execution_count": null,
   "id": "1879a236",
   "metadata": {},
   "outputs": [],
   "source": []
  },
  {
   "cell_type": "code",
   "execution_count": null,
   "id": "b4029e8a",
   "metadata": {},
   "outputs": [],
   "source": []
  }
 ],
 "metadata": {
  "kernelspec": {
   "display_name": "Python 3 (ipykernel)",
   "language": "python",
   "name": "python3"
  },
  "language_info": {
   "codemirror_mode": {
    "name": "ipython",
    "version": 3
   },
   "file_extension": ".py",
   "mimetype": "text/x-python",
   "name": "python",
   "nbconvert_exporter": "python",
   "pygments_lexer": "ipython3",
   "version": "3.9.7"
  }
 },
 "nbformat": 4,
 "nbformat_minor": 5
}
